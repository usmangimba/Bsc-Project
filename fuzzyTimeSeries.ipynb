{
 "cells": [
  {
   "cell_type": "markdown",
   "metadata": {},
   "source": []
  },
  {
   "cell_type": "code",
   "execution_count": 2,
   "metadata": {},
   "outputs": [],
   "source": [
    "import warnings\n",
    "warnings.filterwarnings('ignore')\n",
    "import pandas as pd \n",
    "import numpy as np\n",
    "import warnings\n",
    "import matplotlib.pylab as plt\n",
    "\n",
    "#import skfuzzy as fuzz\n",
    "\n",
    "from pyFTS.partitioners import CMeans, Grid, FCM, Huarng, Entropy, Util as pUtil\n",
    "from pyFTS.common import Membership as mf\n",
    "from pyFTS.benchmarks import benchmarks as bchmk\n",
    "\n",
    "%matplotlib inline"
   ]
  },
  {
   "cell_type": "code",
   "execution_count": 2,
   "metadata": {},
   "outputs": [],
   "source": [
    "dataset = pd.read_excel('Rice_Price_Inflation.xlsx')"
   ]
  },
  {
   "cell_type": "code",
   "execution_count": 3,
   "metadata": {},
   "outputs": [
    {
     "data": {
      "text/html": [
       "<div>\n",
       "<style scoped>\n",
       "    .dataframe tbody tr th:only-of-type {\n",
       "        vertical-align: middle;\n",
       "    }\n",
       "\n",
       "    .dataframe tbody tr th {\n",
       "        vertical-align: top;\n",
       "    }\n",
       "\n",
       "    .dataframe thead th {\n",
       "        text-align: right;\n",
       "    }\n",
       "</style>\n",
       "<table border=\"1\" class=\"dataframe\">\n",
       "  <thead>\n",
       "    <tr style=\"text-align: right;\">\n",
       "      <th></th>\n",
       "      <th>DATE</th>\n",
       "      <th>PRICE</th>\n",
       "      <th>INFLATION</th>\n",
       "      <th>FOOD INFLATION</th>\n",
       "      <th>SECURITY INDEX</th>\n",
       "    </tr>\n",
       "  </thead>\n",
       "  <tbody>\n",
       "    <tr>\n",
       "      <th>0</th>\n",
       "      <td>2012-05-15</td>\n",
       "      <td>14974.95</td>\n",
       "      <td>12.7</td>\n",
       "      <td>12.9</td>\n",
       "      <td>4.5</td>\n",
       "    </tr>\n",
       "    <tr>\n",
       "      <th>1</th>\n",
       "      <td>2012-06-15</td>\n",
       "      <td>14700.00</td>\n",
       "      <td>12.9</td>\n",
       "      <td>12.0</td>\n",
       "      <td>4.5</td>\n",
       "    </tr>\n",
       "    <tr>\n",
       "      <th>2</th>\n",
       "      <td>2012-07-15</td>\n",
       "      <td>16075.00</td>\n",
       "      <td>12.8</td>\n",
       "      <td>12.1</td>\n",
       "      <td>4.5</td>\n",
       "    </tr>\n",
       "    <tr>\n",
       "      <th>3</th>\n",
       "      <td>2012-08-15</td>\n",
       "      <td>16960.00</td>\n",
       "      <td>11.7</td>\n",
       "      <td>11.1</td>\n",
       "      <td>4.5</td>\n",
       "    </tr>\n",
       "    <tr>\n",
       "      <th>4</th>\n",
       "      <td>2012-09-15</td>\n",
       "      <td>15600.00</td>\n",
       "      <td>11.3</td>\n",
       "      <td>10.2</td>\n",
       "      <td>4.5</td>\n",
       "    </tr>\n",
       "  </tbody>\n",
       "</table>\n",
       "</div>"
      ],
      "text/plain": [
       "        DATE     PRICE  INFLATION  FOOD INFLATION  SECURITY INDEX\n",
       "0 2012-05-15  14974.95       12.7            12.9             4.5\n",
       "1 2012-06-15  14700.00       12.9            12.0             4.5\n",
       "2 2012-07-15  16075.00       12.8            12.1             4.5\n",
       "3 2012-08-15  16960.00       11.7            11.1             4.5\n",
       "4 2012-09-15  15600.00       11.3            10.2             4.5"
      ]
     },
     "execution_count": 3,
     "metadata": {},
     "output_type": "execute_result"
    }
   ],
   "source": [
    "dataset.head()"
   ]
  },
  {
   "cell_type": "code",
   "execution_count": 4,
   "metadata": {},
   "outputs": [
    {
     "data": {
      "text/html": [
       "<div>\n",
       "<style scoped>\n",
       "    .dataframe tbody tr th:only-of-type {\n",
       "        vertical-align: middle;\n",
       "    }\n",
       "\n",
       "    .dataframe tbody tr th {\n",
       "        vertical-align: top;\n",
       "    }\n",
       "\n",
       "    .dataframe thead th {\n",
       "        text-align: right;\n",
       "    }\n",
       "</style>\n",
       "<table border=\"1\" class=\"dataframe\">\n",
       "  <thead>\n",
       "    <tr style=\"text-align: right;\">\n",
       "      <th></th>\n",
       "      <th>DATE</th>\n",
       "      <th>PRICE</th>\n",
       "      <th>INFLATION</th>\n",
       "      <th>FOOD INFLATION</th>\n",
       "      <th>SECURITY INDEX</th>\n",
       "    </tr>\n",
       "  </thead>\n",
       "  <tbody>\n",
       "    <tr>\n",
       "      <th>104</th>\n",
       "      <td>2021-06-15</td>\n",
       "      <td>26500.00</td>\n",
       "      <td>17.75</td>\n",
       "      <td>21.83</td>\n",
       "      <td>8.8</td>\n",
       "    </tr>\n",
       "    <tr>\n",
       "      <th>105</th>\n",
       "      <td>2021-07-15</td>\n",
       "      <td>26274.19</td>\n",
       "      <td>17.38</td>\n",
       "      <td>21.03</td>\n",
       "      <td>8.8</td>\n",
       "    </tr>\n",
       "    <tr>\n",
       "      <th>106</th>\n",
       "      <td>2021-08-15</td>\n",
       "      <td>26500.00</td>\n",
       "      <td>17.01</td>\n",
       "      <td>20.30</td>\n",
       "      <td>8.8</td>\n",
       "    </tr>\n",
       "    <tr>\n",
       "      <th>107</th>\n",
       "      <td>2021-09-15</td>\n",
       "      <td>26785.71</td>\n",
       "      <td>16.63</td>\n",
       "      <td>19.57</td>\n",
       "      <td>8.8</td>\n",
       "    </tr>\n",
       "    <tr>\n",
       "      <th>108</th>\n",
       "      <td>2021-10-15</td>\n",
       "      <td>26300.00</td>\n",
       "      <td>15.99</td>\n",
       "      <td>18.34</td>\n",
       "      <td>8.8</td>\n",
       "    </tr>\n",
       "  </tbody>\n",
       "</table>\n",
       "</div>"
      ],
      "text/plain": [
       "          DATE     PRICE  INFLATION  FOOD INFLATION  SECURITY INDEX\n",
       "104 2021-06-15  26500.00      17.75           21.83             8.8\n",
       "105 2021-07-15  26274.19      17.38           21.03             8.8\n",
       "106 2021-08-15  26500.00      17.01           20.30             8.8\n",
       "107 2021-09-15  26785.71      16.63           19.57             8.8\n",
       "108 2021-10-15  26300.00      15.99           18.34             8.8"
      ]
     },
     "execution_count": 4,
     "metadata": {},
     "output_type": "execute_result"
    }
   ],
   "source": [
    "dataset.tail()"
   ]
  },
  {
   "cell_type": "code",
   "execution_count": 3,
   "metadata": {},
   "outputs": [],
   "source": [
    "ind = np.argsort(dataset['PRICE'])"
   ]
  },
  {
   "cell_type": "code",
   "execution_count": 4,
   "metadata": {},
   "outputs": [
    {
     "data": {
      "text/plain": [
       "10    14000.0\n",
       "6     14000.0\n",
       "5     14360.0\n",
       "7     14375.0\n",
       "9     14525.0\n",
       "Name: PRICE, dtype: float64"
      ]
     },
     "execution_count": 4,
     "metadata": {},
     "output_type": "execute_result"
    }
   ],
   "source": [
    "sorted_data = dataset['PRICE'][ind]\n",
    "sorted_data.head()"
   ]
  },
  {
   "cell_type": "code",
   "execution_count": 5,
   "metadata": {},
   "outputs": [
    {
     "data": {
      "text/plain": [
       "49    30700.0\n",
       "58    31425.0\n",
       "89    32750.0\n",
       "90    34750.0\n",
       "91    37000.0\n",
       "Name: PRICE, dtype: float64"
      ]
     },
     "execution_count": 5,
     "metadata": {},
     "output_type": "execute_result"
    }
   ],
   "source": [
    "sorted_data.tail()"
   ]
  },
  {
   "cell_type": "code",
   "execution_count": 3,
   "metadata": {},
   "outputs": [
    {
     "data": {
      "text/html": [
       "<div>\n",
       "<style scoped>\n",
       "    .dataframe tbody tr th:only-of-type {\n",
       "        vertical-align: middle;\n",
       "    }\n",
       "\n",
       "    .dataframe tbody tr th {\n",
       "        vertical-align: top;\n",
       "    }\n",
       "\n",
       "    .dataframe thead th {\n",
       "        text-align: right;\n",
       "    }\n",
       "</style>\n",
       "<table border=\"1\" class=\"dataframe\">\n",
       "  <thead>\n",
       "    <tr style=\"text-align: right;\">\n",
       "      <th></th>\n",
       "      <th>PRICE</th>\n",
       "      <th>INFLATION</th>\n",
       "      <th>FOOD INFLATION</th>\n",
       "      <th>SECURITY INDEX</th>\n",
       "    </tr>\n",
       "    <tr>\n",
       "      <th>DATE</th>\n",
       "      <th></th>\n",
       "      <th></th>\n",
       "      <th></th>\n",
       "      <th></th>\n",
       "    </tr>\n",
       "  </thead>\n",
       "  <tbody>\n",
       "    <tr>\n",
       "      <th>2012-05-15</th>\n",
       "      <td>14974.95</td>\n",
       "      <td>12.7</td>\n",
       "      <td>12.9</td>\n",
       "      <td>4.5</td>\n",
       "    </tr>\n",
       "    <tr>\n",
       "      <th>2012-06-15</th>\n",
       "      <td>14700.00</td>\n",
       "      <td>12.9</td>\n",
       "      <td>12.0</td>\n",
       "      <td>4.5</td>\n",
       "    </tr>\n",
       "    <tr>\n",
       "      <th>2012-07-15</th>\n",
       "      <td>16075.00</td>\n",
       "      <td>12.8</td>\n",
       "      <td>12.1</td>\n",
       "      <td>4.5</td>\n",
       "    </tr>\n",
       "    <tr>\n",
       "      <th>2012-08-15</th>\n",
       "      <td>16960.00</td>\n",
       "      <td>11.7</td>\n",
       "      <td>11.1</td>\n",
       "      <td>4.5</td>\n",
       "    </tr>\n",
       "    <tr>\n",
       "      <th>2012-09-15</th>\n",
       "      <td>15600.00</td>\n",
       "      <td>11.3</td>\n",
       "      <td>10.2</td>\n",
       "      <td>4.5</td>\n",
       "    </tr>\n",
       "  </tbody>\n",
       "</table>\n",
       "</div>"
      ],
      "text/plain": [
       "               PRICE  INFLATION  FOOD INFLATION  SECURITY INDEX\n",
       "DATE                                                           \n",
       "2012-05-15  14974.95       12.7            12.9             4.5\n",
       "2012-06-15  14700.00       12.9            12.0             4.5\n",
       "2012-07-15  16075.00       12.8            12.1             4.5\n",
       "2012-08-15  16960.00       11.7            11.1             4.5\n",
       "2012-09-15  15600.00       11.3            10.2             4.5"
      ]
     },
     "execution_count": 3,
     "metadata": {},
     "output_type": "execute_result"
    }
   ],
   "source": [
    "dataset.index = pd.to_datetime(dataset['DATE'])\n",
    "dataset.drop(columns='DATE',inplace=True)\n",
    "dataset.head()"
   ]
  },
  {
   "cell_type": "code",
   "execution_count": 11,
   "metadata": {},
   "outputs": [],
   "source": [
    "train = dataset.iloc[:87]\n",
    "test = dataset.iloc[87:]"
   ]
  },
  {
   "cell_type": "code",
   "execution_count": 13,
   "metadata": {},
   "outputs": [],
   "source": [
    "import os\n",
    "%run multivariate_class.ipynb"
   ]
  },
  {
   "cell_type": "code",
   "execution_count": 8,
   "metadata": {},
   "outputs": [],
   "source": [
    "from pyFTS.partitioners import Grid, Util as pUtil\n",
    "from pyFTS.common import Transformations\n",
    "\n",
    "from pyFTS.models.seasonal import partitioner as seasonal\n",
    "from pyFTS.models.seasonal.common import DateTime\n",
    "\n",
    "bc = Transformations.BoxCox(0)\n",
    "diff = Transformations.Differential(1)"
   ]
  },
  {
   "cell_type": "code",
   "execution_count": null,
   "metadata": {},
   "outputs": [],
   "source": []
  },
  {
   "cell_type": "code",
   "execution_count": 1,
   "metadata": {},
   "outputs": [],
   "source": [
    "data = [13055, 13563, 13867, 14696]"
   ]
  },
  {
   "cell_type": "code",
   "execution_count": 3,
   "metadata": {},
   "outputs": [
    {
     "data": {
      "text/plain": [
       "55181"
      ]
     },
     "execution_count": 3,
     "metadata": {},
     "output_type": "execute_result"
    }
   ],
   "source": [
    "np.sum(data)"
   ]
  },
  {
   "cell_type": "code",
   "execution_count": null,
   "metadata": {},
   "outputs": [],
   "source": []
  },
  {
   "cell_type": "code",
   "execution_count": 3,
   "metadata": {},
   "outputs": [],
   "source": [
    "def distances_list(data):\n",
    "\n",
    "    list_distance = np.array()\n",
    "    for i in range(len(data)-1):\n",
    "        distance = np.abs(data[i] - data[i+1])\n",
    "        list_distance = np.append(list_distance, distance)\n",
    "\n",
    "    return list_distance"
   ]
  },
  {
   "cell_type": "code",
   "execution_count": 3,
   "metadata": {},
   "outputs": [],
   "source": [
    "# This function computes the distances between data points and return,\n",
    "# their total average distance and a list of the distances\n",
    "\n",
    "\n",
    "def average_distance(data, n):\n",
    "\n",
    "    distance = [np.abs(data[i] - data[i+1]) for i in range(len(data) -1)]\n",
    "    \n",
    "    return (np.sum(distance)/(n), distance)\n",
    "\n"
   ]
  },
  {
   "cell_type": "code",
   "execution_count": 4,
   "metadata": {},
   "outputs": [
    {
     "data": {
      "text/plain": [
       "(547.0, [508, 304, 829])"
      ]
     },
     "execution_count": 4,
     "metadata": {},
     "output_type": "execute_result"
    }
   ],
   "source": [
    "AVr, dist = average_distance(data, len(data)-1)\n",
    "AVr, dist"
   ]
  },
  {
   "cell_type": "code",
   "execution_count": 5,
   "metadata": {},
   "outputs": [],
   "source": [
    "# the sum of the differences between two consecutive values are used to,\n",
    "# calculate the standard deviation of the data.\n",
    "\n",
    "def standard_deviation(data):\n",
    "    AVr, dist = average_distance(data, len(data)-1)\n",
    "    std = np.sum([np.power(i - AVr, 2) for i in dist])\n",
    "\n",
    "    return np.sqrt(std/(len(data)-1))\n",
    "    \n",
    "\n"
   ]
  },
  {
   "cell_type": "code",
   "execution_count": 7,
   "metadata": {},
   "outputs": [
    {
     "data": {
      "text/plain": [
       "216.0972003520638"
      ]
     },
     "execution_count": 7,
     "metadata": {},
     "output_type": "execute_result"
    }
   ],
   "source": [
    "std = standard_deviation(data)\n",
    "std"
   ]
  },
  {
   "cell_type": "code",
   "execution_count": null,
   "metadata": {},
   "outputs": [],
   "source": [
    "std"
   ]
  },
  {
   "cell_type": "code",
   "execution_count": 20,
   "metadata": {},
   "outputs": [],
   "source": [
    " def revised_distance():\n",
    "    #_, dist = average_distance(data, len(data)-1)\n",
    "    max_val = AVr + std  # outlier is a value less than or larger than one,\n",
    "    min_val = AVr - std   # standard deviation from Average distance.\n",
    "\n",
    "    dist_copy = dist.copy()\n",
    "\n",
    "    for val in dist_copy:\n",
    "        if (val < min_val)  | (val > max_val):\n",
    "                dist_copy = np.delete(dist_copy, np.where (dist_copy==val))\n",
    "    return dist_copy\n"
   ]
  },
  {
   "cell_type": "code",
   "execution_count": 21,
   "metadata": {},
   "outputs": [
    {
     "data": {
      "text/plain": [
       "array([508])"
      ]
     },
     "execution_count": 21,
     "metadata": {},
     "output_type": "execute_result"
    }
   ],
   "source": [
    "revDist = revised_distance()\n",
    "revDist"
   ]
  },
  {
   "cell_type": "code",
   "execution_count": 56,
   "metadata": {},
   "outputs": [],
   "source": [
    "\n",
    "#def revised_distance_list(data):\n",
    "#    rev_dist = np.zeros(0)\n",
    "#    for i in range(len(data) - 1):\n",
    "#        dist = (np.abs(data[i] - data[i+1]))\n",
    "#        rev_dist = np.append(rev_dist, dist)\n",
    "    #print(dist_data)\n",
    "\n",
    "#    max_dist = average_distance(data, len(data)) + standard_deviation(data, len(data))\n",
    "#    min_dist = average_distance(data, len(data)) - standard_deviation(data, len(data))\n",
    "\n",
    "#    for val in rev_dist:\n",
    "#        if (val < min_dist)  | (val > max_dist):\n",
    "#            rev_dist = np.delete(rev_dist, np.where (rev_dist==val))\n",
    "\n",
    "#    return rev_dist\n"
   ]
  },
  {
   "cell_type": "code",
   "execution_count": 22,
   "metadata": {},
   "outputs": [],
   "source": [
    "def range_limits(data):\n",
    "    upper_limit = max(data) + revDist\n",
    "    lower_limit = min(data) - revDist\n",
    "\n",
    "    data_range = upper_limit - lower_limit\n",
    "    return data_range\n"
   ]
  },
  {
   "cell_type": "code",
   "execution_count": 23,
   "metadata": {},
   "outputs": [],
   "source": [
    "def new_data():\n",
    "    data.append(upper_limit)\n",
    "    data.append(lower_limit)\n",
    "    sorted_data = np.argsort(data)\n",
    "\n",
    "    return sorted_data"
   ]
  },
  {
   "cell_type": "code",
   "execution_count": 26,
   "metadata": {},
   "outputs": [],
   "source": [
    "def set_number(data):\n",
    "    sorted_data = new_data()\n",
    "    data_range = range_limits(sorted_data)\n",
    "    #Adr = revised_distance(data)\n",
    "    return np.rint(((data_range - revDist)/(2 * revDist)))"
   ]
  },
  {
   "cell_type": "code",
   "execution_count": 27,
   "metadata": {},
   "outputs": [
    {
     "ename": "NameError",
     "evalue": "name 'upper_limit' is not defined",
     "output_type": "error",
     "traceback": [
      "\u001b[1;31m---------------------------------------------------------------------------\u001b[0m",
      "\u001b[1;31mNameError\u001b[0m                                 Traceback (most recent call last)",
      "\u001b[1;32m~\\AppData\\Local\\Temp\\ipykernel_11956\\565841925.py\u001b[0m in \u001b[0;36m<module>\u001b[1;34m\u001b[0m\n\u001b[1;32m----> 1\u001b[1;33m \u001b[0mnumbers\u001b[0m \u001b[1;33m=\u001b[0m \u001b[0mset_number\u001b[0m\u001b[1;33m(\u001b[0m\u001b[0mdata\u001b[0m\u001b[1;33m)\u001b[0m\u001b[1;33m\u001b[0m\u001b[1;33m\u001b[0m\u001b[0m\n\u001b[0m\u001b[0;32m      2\u001b[0m \u001b[0mnumbers\u001b[0m\u001b[1;33m\u001b[0m\u001b[1;33m\u001b[0m\u001b[0m\n",
      "\u001b[1;32m~\\AppData\\Local\\Temp\\ipykernel_11956\\1342107247.py\u001b[0m in \u001b[0;36mset_number\u001b[1;34m(data)\u001b[0m\n\u001b[0;32m      1\u001b[0m \u001b[1;32mdef\u001b[0m \u001b[0mset_number\u001b[0m\u001b[1;33m(\u001b[0m\u001b[0mdata\u001b[0m\u001b[1;33m)\u001b[0m\u001b[1;33m:\u001b[0m\u001b[1;33m\u001b[0m\u001b[1;33m\u001b[0m\u001b[0m\n\u001b[1;32m----> 2\u001b[1;33m     \u001b[0msorted_data\u001b[0m \u001b[1;33m=\u001b[0m \u001b[0mnew_data\u001b[0m\u001b[1;33m(\u001b[0m\u001b[1;33m)\u001b[0m\u001b[1;33m\u001b[0m\u001b[1;33m\u001b[0m\u001b[0m\n\u001b[0m\u001b[0;32m      3\u001b[0m     \u001b[0mdata_range\u001b[0m \u001b[1;33m=\u001b[0m \u001b[0mrange_limits\u001b[0m\u001b[1;33m(\u001b[0m\u001b[0msorted_data\u001b[0m\u001b[1;33m)\u001b[0m\u001b[1;33m\u001b[0m\u001b[1;33m\u001b[0m\u001b[0m\n\u001b[0;32m      4\u001b[0m     \u001b[1;31m#Adr = revised_distance(data)\u001b[0m\u001b[1;33m\u001b[0m\u001b[1;33m\u001b[0m\u001b[0m\n\u001b[0;32m      5\u001b[0m     \u001b[1;32mreturn\u001b[0m \u001b[0mnp\u001b[0m\u001b[1;33m.\u001b[0m\u001b[0mrint\u001b[0m\u001b[1;33m(\u001b[0m\u001b[1;33m(\u001b[0m\u001b[1;33m(\u001b[0m\u001b[0mdata_range\u001b[0m \u001b[1;33m-\u001b[0m \u001b[0mrevDist\u001b[0m\u001b[1;33m)\u001b[0m\u001b[1;33m/\u001b[0m\u001b[1;33m(\u001b[0m\u001b[1;36m2\u001b[0m \u001b[1;33m*\u001b[0m \u001b[0mrevDist\u001b[0m\u001b[1;33m)\u001b[0m\u001b[1;33m)\u001b[0m\u001b[1;33m)\u001b[0m\u001b[1;33m\u001b[0m\u001b[1;33m\u001b[0m\u001b[0m\n",
      "\u001b[1;32m~\\AppData\\Local\\Temp\\ipykernel_11956\\746945094.py\u001b[0m in \u001b[0;36mnew_data\u001b[1;34m()\u001b[0m\n\u001b[0;32m      1\u001b[0m \u001b[1;32mdef\u001b[0m \u001b[0mnew_data\u001b[0m\u001b[1;33m(\u001b[0m\u001b[1;33m)\u001b[0m\u001b[1;33m:\u001b[0m\u001b[1;33m\u001b[0m\u001b[1;33m\u001b[0m\u001b[0m\n\u001b[1;32m----> 2\u001b[1;33m     \u001b[0mdata\u001b[0m\u001b[1;33m.\u001b[0m\u001b[0mappend\u001b[0m\u001b[1;33m(\u001b[0m\u001b[0mupper_limit\u001b[0m\u001b[1;33m)\u001b[0m\u001b[1;33m\u001b[0m\u001b[1;33m\u001b[0m\u001b[0m\n\u001b[0m\u001b[0;32m      3\u001b[0m     \u001b[0mdata\u001b[0m\u001b[1;33m.\u001b[0m\u001b[0mappend\u001b[0m\u001b[1;33m(\u001b[0m\u001b[0mlower_limit\u001b[0m\u001b[1;33m)\u001b[0m\u001b[1;33m\u001b[0m\u001b[1;33m\u001b[0m\u001b[0m\n\u001b[0;32m      4\u001b[0m     \u001b[0msorted_data\u001b[0m \u001b[1;33m=\u001b[0m \u001b[0mnp\u001b[0m\u001b[1;33m.\u001b[0m\u001b[0margsort\u001b[0m\u001b[1;33m(\u001b[0m\u001b[0mdata\u001b[0m\u001b[1;33m)\u001b[0m\u001b[1;33m\u001b[0m\u001b[1;33m\u001b[0m\u001b[0m\n\u001b[0;32m      5\u001b[0m \u001b[1;33m\u001b[0m\u001b[0m\n",
      "\u001b[1;31mNameError\u001b[0m: name 'upper_limit' is not defined"
     ]
    }
   ],
   "source": [
    "numbers = set_number(data)\n",
    "numbers"
   ]
  },
  {
   "cell_type": "code",
   "execution_count": null,
   "metadata": {},
   "outputs": [],
   "source": [
    "from pyFTS.partitioners import CMeans, Grid, FCM, Huarng, Entropy, Util as pUtil\n",
    "from pyFTS.common import Membership as mf"
   ]
  },
  {
   "cell_type": "code",
   "execution_count": 5,
   "metadata": {},
   "outputs": [],
   "source": [
    "from pyFTS.common import Transformations\n",
    "\n",
    "tdiff = Transformations.Differential(1)"
   ]
  },
  {
   "cell_type": "code",
   "execution_count": 18,
   "metadata": {},
   "outputs": [],
   "source": [
    "partitioner = Entropy.EntropyPartitioner(data=sorted_data, npart=15)\n",
    "partitioner_diff = Entropy.EntropyPartitioner(data=sorted_data, npart=5, transformation=tdiff)"
   ]
  },
  {
   "cell_type": "code",
   "execution_count": 24,
   "metadata": {},
   "outputs": [
    {
     "data": {
      "image/png": "[encoded data removed]",
      "text/plain": [
       "<Figure size 1500x700 with 2 Axes>"
      ]
     },
     "metadata": {},
     "output_type": "display_data"
    }
   ],
   "source": [
    "pUtil.plot_partitioners(sorted_data, [partitioner,partitioner_diff], tam=[15,7])"
   ]
  },
  {
   "cell_type": "code",
   "execution_count": 8,
   "metadata": {},
   "outputs": [
    {
     "name": "stdout",
     "output_type": "stream",
     "text": [
      "Entropy - trimf:\n",
      "A0: trimf([12600.0, 14912.5, 15200.0])\n",
      "A1: trimf([14912.5, 15200.0, 15690.0])\n",
      "A2: trimf([15200.0, 15690.0, 15900.0])\n",
      "A3: trimf([15690.0, 15900.0, 16960.0])\n",
      "A4: trimf([15900.0, 16960.0, 18800.0])\n",
      "A5: trimf([16960.0, 18800.0, 23620.0])\n",
      "A6: trimf([18800.0, 23620.0, 24900.0])\n",
      "A7: trimf([23620.0, 24900.0, 25700.0])\n",
      "A8: trimf([24900.0, 25700.0, 26175.0])\n",
      "A9: trimf([25700.0, 26175.0, 26350.0])\n",
      "A10: trimf([26175.0, 26350.0, 26785.71])\n",
      "A11: trimf([26350.0, 26785.71, 27260.0])\n",
      "A12: trimf([26785.71, 27260.0, 28800.0])\n",
      "A13: trimf([27260.0, 28800.0, 30450.0])\n",
      "A14: trimf([28800.0, 30450.0, 40700.0])\n",
      "\n",
      "Entropy - trapmf:\n",
      "A0: trapmf([12600.0, 13756.25, 15056.25, 15200.0])\n",
      "A1: trapmf([14912.5, 15056.25, 15445.0, 15690.0])\n",
      "A2: trapmf([15200.0, 15445.0, 15795.0, 15900.0])\n",
      "A3: trapmf([15690.0, 15795.0, 16430.0, 16960.0])\n",
      "A4: trapmf([15900.0, 16430.0, 17880.0, 18800.0])\n",
      "A5: trapmf([16960.0, 17880.0, 21210.0, 23620.0])\n",
      "A6: trapmf([18800.0, 21210.0, 24260.0, 24900.0])\n",
      "A7: trapmf([23620.0, 24260.0, 25300.0, 25700.0])\n",
      "A8: trapmf([24900.0, 25300.0, 25937.5, 26175.0])\n",
      "A9: trapmf([25700.0, 25937.5, 26262.5, 26350.0])\n",
      "A10: trapmf([26175.0, 26262.5, 26567.855, 26785.71])\n",
      "A11: trapmf([26350.0, 26567.855, 27022.855, 27260.0])\n",
      "A12: trapmf([26785.71, 27022.855, 28030.0, 28800.0])\n",
      "A13: trapmf([27260.0, 28030.0, 29625.0, 30450.0])\n",
      "A14: trapmf([28800.0, 29625.0, 35575.0, 40700.0])\n",
      "\n",
      "Entropy - gaussmf:\n",
      "\n"
     ]
    }
   ],
   "source": [
    "for p in fuzzy_set:\n",
    "    print(p)"
   ]
  },
  {
   "cell_type": "code",
   "execution_count": 25,
   "metadata": {},
   "outputs": [
    {
     "ename": "TypeError",
     "evalue": "__init__() takes 1 positional argument but 2 were given",
     "output_type": "error",
     "traceback": [
      "\u001b[1;31m---------------------------------------------------------------------------\u001b[0m",
      "\u001b[1;31mTypeError\u001b[0m                                 Traceback (most recent call last)",
      "\u001b[1;32m~\\AppData\\Local\\Temp\\ipykernel_5092\\2517659958.py\u001b[0m in \u001b[0;36m<module>\u001b[1;34m\u001b[0m\n\u001b[0;32m      2\u001b[0m \u001b[1;32mfrom\u001b[0m \u001b[0mpyFTS\u001b[0m\u001b[1;33m.\u001b[0m\u001b[0mmodels\u001b[0m \u001b[1;32mimport\u001b[0m \u001b[0mhofts\u001b[0m\u001b[1;33m,\u001b[0m \u001b[0mpwfts\u001b[0m\u001b[1;33m\u001b[0m\u001b[1;33m\u001b[0m\u001b[0m\n\u001b[0;32m      3\u001b[0m \u001b[1;33m\u001b[0m\u001b[0m\n\u001b[1;32m----> 4\u001b[1;33m \u001b[0mrice_price\u001b[0m \u001b[1;33m=\u001b[0m \u001b[0mhofts\u001b[0m\u001b[1;33m.\u001b[0m\u001b[0mHighOrderFTS\u001b[0m\u001b[1;33m(\u001b[0m\u001b[1;34m\"1\"\u001b[0m\u001b[1;33m,\u001b[0m \u001b[0mpartitioner\u001b[0m\u001b[1;33m=\u001b[0m\u001b[0mpartitioner\u001b[0m\u001b[1;33m)\u001b[0m\u001b[1;33m\u001b[0m\u001b[1;33m\u001b[0m\u001b[0m\n\u001b[0m\u001b[0;32m      5\u001b[0m \u001b[0mrice_price\u001b[0m\u001b[1;33m.\u001b[0m\u001b[0mfit\u001b[0m\u001b[1;33m(\u001b[0m\u001b[0msorted_data\u001b[0m\u001b[1;33m,\u001b[0m \u001b[0msave_model\u001b[0m\u001b[1;33m=\u001b[0m\u001b[1;32mTrue\u001b[0m\u001b[1;33m,\u001b[0m \u001b[0mfile_path\u001b[0m\u001b[1;33m=\u001b[0m\u001b[1;34m'pwfts'\u001b[0m\u001b[1;33m)\u001b[0m\u001b[1;33m\u001b[0m\u001b[1;33m\u001b[0m\u001b[0m\n\u001b[0;32m      6\u001b[0m \u001b[0mrice_price\u001b[0m\u001b[1;33m.\u001b[0m\u001b[0mshortname\u001b[0m \u001b[1;33m=\u001b[0m \u001b[1;34m\"1st Order\"\u001b[0m\u001b[1;33m\u001b[0m\u001b[1;33m\u001b[0m\u001b[0m\n",
      "\u001b[1;31mTypeError\u001b[0m: __init__() takes 1 positional argument but 2 were given"
     ]
    }
   ],
   "source": [
    "from pyFTS.common import fts,tree\n",
    "from pyFTS.models import hofts, pwfts\n",
    "\n",
    "rice_price = pwfts.ProbabilisticWeightedFTS(\"1\", partitioner=partitioner)\n",
    "rice_price.fit(sorted_data, save_model=True, file_path='pwfts')\n",
    "rice_price.shortname = \"1st Order\"\n",
    "print(rice_price)"
   ]
  },
  {
   "cell_type": "code",
   "execution_count": 28,
   "metadata": {},
   "outputs": [],
   "source": [
    "dataset = sorted_data\n",
    "\n",
    "train_split = 89\n",
    "test_split = 20"
   ]
  },
  {
   "cell_type": "code",
   "execution_count": 29,
   "metadata": {},
   "outputs": [],
   "source": [
    "from pyFTS.partitioners import Grid, Util as pUtil\n",
    "from pyFTS.benchmarks import benchmarks as bchmk\n",
    "from pyFTS.models import chen\n",
    "\n",
    "tag = 'chen_partitioning'\n",
    "_type = 'point'"
   ]
  },
  {
   "cell_type": "code",
   "execution_count": 30,
   "metadata": {},
   "outputs": [],
   "source": [
    "from pyFTS.common import Transformations\n",
    "\n",
    "tdiff = Transformations.Differential(1)\n",
    "\n",
    "boxcox = Transformations.BoxCox(0)"
   ]
  },
  {
   "cell_type": "code",
   "execution_count": 31,
   "metadata": {},
   "outputs": [],
   "source": [
    "bchmk.sliding_window_benchmarks(fuzzy_set, 12, train=0.8, inc=0.2,\n",
    "                                    methods=[chen.ConventionalFTS],\n",
    "                                    benchmark_models=False,\n",
    "                                    transformations=[None],\n",
    "                                    partitions=np.arange(10,100,2), \n",
    "                                    progress=False, type=_type,\n",
    "                                    file=\"benchmarks.db\", dataset=dataset, tag=tag)"
   ]
  },
  {
   "cell_type": "code",
   "execution_count": 35,
   "metadata": {},
   "outputs": [
    {
     "data": {
      "image/png": "[encoded data removed]",
      "text/plain": [
       "<Figure size 1500x700 with 2 Axes>"
      ]
     },
     "metadata": {},
     "output_type": "display_data"
    }
   ],
   "source": [
    "from pyFTS.benchmarks import Util as bUtil\n",
    "\n",
    "df1 = bUtil.get_dataframe_from_bd(\"benchmarks.db\",\n",
    "                                  \"tag = 'chen_partitioning' and measure = 'rmse'and transformation is null\")\n",
    "\n",
    "df2 = bUtil.get_dataframe_from_bd(\"benchmarks.db\",\n",
    "                                  \"tag = 'chen_partitioning' and measure = 'rmse' and transformation is not null\")\n",
    "\n",
    "fig, ax = plt.subplots(nrows=2, ncols=1, figsize=[15,7])\n",
    "\n",
    "#g1 = sns.boxplot(x='Partitions', y='Value', hue='Dataset', data=df1, showfliers=False, ax=ax[0], \n",
    "#                 palette=\"Set3\")\n",
    "#box = g1.get_position()\n",
    "#g1.set_position([box.x0, box.y0, box.width * 0.85, box.height]) \n",
    "#g1.legend(loc='right', bbox_to_anchor=(1.15, 0.5), ncol=1)\n",
    "#ax[0].set_title(\"Original data\")\n",
    "#ax[0].set_ylabel(\"RMSE\")\n",
    "#ax[0].set_xlabel(\"\")\n",
    "\n",
    "#g2 = sns.boxplot(x='Partitions', y='Value', hue='Dataset', data=df2, showfliers=False, ax=ax[1], \n",
    "#                palette=\"Set3\")\n",
    "#box = g2.get_position()\n",
    "#g2.set_position([box.x0, box.y0, box.width * 0.85, box.height]) \n",
    "#g2.legend(loc='right', bbox_to_anchor=(1.15, 0.5), ncol=1)\n",
    "#ax[1].set_title(\"Differentiated data\")\n",
    "#ax[1].set_ylabel(\"RMSE\")\n",
    "#ax[1].set_xlabel(\"Number of partitions of the UoD\")"
   ]
  },
  {
   "cell_type": "code",
   "execution_count": 36,
   "metadata": {},
   "outputs": [
    {
     "ename": "NameError",
     "evalue": "name 'ismailefendi' is not defined",
     "output_type": "error",
     "traceback": [
      "\u001b[1;31m---------------------------------------------------------------------------\u001b[0m",
      "\u001b[1;31mNameError\u001b[0m                                 Traceback (most recent call last)",
      "\u001b[1;32m~\\AppData\\Local\\Temp\\ipykernel_12964\\1272163675.py\u001b[0m in \u001b[0;36m<module>\u001b[1;34m\u001b[0m\n\u001b[1;32m----> 1\u001b[1;33m \u001b[0mmodel1\u001b[0m \u001b[1;33m=\u001b[0m \u001b[0mismailefendi\u001b[0m\u001b[1;33m.\u001b[0m\u001b[0mImprovedWeightedFTS\u001b[0m\u001b[1;33m(\u001b[0m\u001b[0mpartitioner\u001b[0m\u001b[1;33m=\u001b[0m\u001b[0mpartitioners\u001b[0m\u001b[1;33m[\u001b[0m\u001b[0mdataset\u001b[0m\u001b[1;33m]\u001b[0m\u001b[1;33m)\u001b[0m\u001b[1;33m\u001b[0m\u001b[1;33m\u001b[0m\u001b[0m\n\u001b[0m\u001b[0;32m      2\u001b[0m \u001b[0mmodel1\u001b[0m\u001b[1;33m.\u001b[0m\u001b[0mname\u001b[0m\u001b[1;33m=\u001b[0m\u001b[0mdataset\u001b[0m\u001b[1;33m.\u001b[0m\u001b[0mPRICE\u001b[0m\u001b[1;33m\u001b[0m\u001b[1;33m\u001b[0m\u001b[0m\n\u001b[0;32m      3\u001b[0m \u001b[0mmodel1\u001b[0m\u001b[1;33m.\u001b[0m\u001b[0mfit\u001b[0m\u001b[1;33m(\u001b[0m\u001b[0mdataset\u001b[0m\u001b[1;33m[\u001b[0m\u001b[1;33m:\u001b[0m\u001b[0mtrain_split\u001b[0m\u001b[1;33m]\u001b[0m\u001b[1;33m,\u001b[0m \u001b[0msave_model\u001b[0m\u001b[1;33m=\u001b[0m\u001b[1;32mTrue\u001b[0m\u001b[1;33m,\u001b[0m \u001b[0mfile_path\u001b[0m\u001b[1;33m=\u001b[0m\u001b[1;34m'model1'\u001b[0m\u001b[1;33m+\u001b[0m\u001b[0mdataset\u001b[0m\u001b[1;33m,\u001b[0m \u001b[0morder\u001b[0m\u001b[1;33m=\u001b[0m\u001b[1;36m1\u001b[0m\u001b[1;33m)\u001b[0m\u001b[1;33m\u001b[0m\u001b[1;33m\u001b[0m\u001b[0m\n\u001b[0;32m      4\u001b[0m \u001b[1;33m\u001b[0m\u001b[0m\n\u001b[0;32m      5\u001b[0m \u001b[0mprint\u001b[0m\u001b[1;33m(\u001b[0m\u001b[0mmodel1\u001b[0m\u001b[1;33m)\u001b[0m\u001b[1;33m\u001b[0m\u001b[1;33m\u001b[0m\u001b[0m\n",
      "\u001b[1;31mNameError\u001b[0m: name 'ismailefendi' is not defined"
     ]
    }
   ],
   "source": [
    "\n",
    "    model1 = ismailefendi.ImprovedWeightedFTS(partitioner=partitioners[dataset])\n",
    "    model1.name=dataset.PRICE\n",
    "    model1.fit(dataset[:train_split], save_model=True, file_path='model1'+dataset, order=1)\n",
    "\n",
    "    print(model1)"
   ]
  },
  {
   "cell_type": "code",
   "execution_count": null,
   "metadata": {},
   "outputs": [],
   "source": []
  },
  {
   "cell_type": "code",
   "execution_count": null,
   "metadata": {},
   "outputs": [],
   "source": []
  }
 ],
 "metadata": {
  "kernelspec": {
   "display_name": "base",
   "language": "python",
   "name": "python3"
  },
  "language_info": {
   "codemirror_mode": {
    "name": "ipython",
    "version": 3
   },
   "file_extension": ".py",
   "mimetype": "text/x-python",
   "name": "python",
   "nbconvert_exporter": "python",
   "pygments_lexer": "ipython3",
   "version": "3.9.13"
  },
  "orig_nbformat": 4,
  "vscode": {
   "interpreter": {
    "hash": "ad2bdc8ecc057115af97d19610ffacc2b4e99fae6737bb82f5d7fb13d2f2c186"
   }
  }
 },
 "nbformat": 4,
 "nbformat_minor": 2
}
